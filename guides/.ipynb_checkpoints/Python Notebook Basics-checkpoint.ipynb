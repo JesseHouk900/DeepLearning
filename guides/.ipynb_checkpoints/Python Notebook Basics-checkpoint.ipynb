{
 "cells": [
  {
   "cell_type": "markdown",
   "metadata": {},
   "source": [
    "# Python/Notebook Basics\n",
    "\n",
    "## Strings"
   ]
  },
  {
   "cell_type": "code",
   "execution_count": null,
   "metadata": {},
   "outputs": [],
   "source": [
    "# Is the character for a comment in python\n",
    "# Notebook will repeat the last literal given, but executes every line\n",
    "'I will be read'\n",
    "\"I will be read and printed out\""
   ]
  },
  {
   "cell_type": "code",
   "execution_count": null,
   "metadata": {},
   "outputs": [],
   "source": [
    "# Notebooks also does this with variables\n",
    "a = 'b'\n",
    "b = 'be'\n",
    "a\n",
    "b"
   ]
  },
  {
   "cell_type": "code",
   "execution_count": null,
   "metadata": {},
   "outputs": [],
   "source": [
    "# Python uses print() to output a string, python 3 requires print\n",
    "#    syntax to resemble a function call while in python 2, print 'this'\n",
    "#    would be valid\n",
    "print (\"What I said\")\n",
    "print ('What you said')"
   ]
  },
  {
   "cell_type": "code",
   "execution_count": null,
   "metadata": {},
   "outputs": [],
   "source": [
    "# Python has a built in function to find the length of an object,\n",
    "#    ie. strings\n",
    "print (len('1 is to 2 as 2 is to 3: irrelevant'))\n",
    "len ('What-what, what-what')\n"
   ]
  },
  {
   "cell_type": "code",
   "execution_count": null,
   "metadata": {},
   "outputs": [],
   "source": [
    "# To index a string, do it like an array in C++\n",
    "s = 'I woke up around 2 in the morning'\n",
    "print (s[0] + ' did what?')\n",
    "print (s[-16])\n",
    "f = 'fresh, dressed like a million dollars'\n",
    "print ('f[7:14]: ' + f[7:14])\n",
    "print ('f[:]: ' + f[:])\n",
    "print ('f[1:-1:3]: ' + f[1:-1:3])"
   ]
  },
  {
   "cell_type": "code",
   "execution_count": null,
   "metadata": {},
   "outputs": [],
   "source": [
    "# Python also allows some math done onto strings\n",
    "g = 'goob'\n",
    "print ('g + g = ' + g + g)\n",
    "print ('2 * g = ' + (2 * g))"
   ]
  },
  {
   "cell_type": "code",
   "execution_count": null,
   "metadata": {},
   "outputs": [],
   "source": [
    "# Dr. Colmeneres'\n",
    "# numbers:   %n1.n2f\n",
    "# n1: is the total minimum number of digits the string should contain\n",
    "# n2: This field stand for how many numbers to show past the decimal point\n",
    "fpn1=14.562# assigning this floating point number to a variable\n",
    "print('A_The floating point number is: %1.2f'%(14.562))\n",
    "print('------------------------------------------------------')\n",
    "print('B_The floating point number is: %1.0f'%(14.562))\n",
    "print('------------------------------------------------------')\n",
    "print('C_The floating point number is: %1.5f'%(14.562))\n",
    "print('------------------------------------------------------')\n",
    "print('D_The floating point number is: %10.1f'%(14.562))\n",
    "print('------------------------------------------------------')\n",
    "print('E_The floating point number is: %21.5f'%(14.562))"
   ]
  },
  {
   "cell_type": "code",
   "execution_count": null,
   "metadata": {},
   "outputs": [],
   "source": [
    "# Dr. Colmeneres'\n",
    "#Readme: now we are going to learn how to print more sophisticated statements\n",
    "# A.K.A: MULTIPLE FORMATTING\n",
    "fpn2=36.254\n",
    "word='Hello World'\n",
    "print('%s the magic number is: %1.3f'%(word,fpn2))"
   ]
  },
  {
   "cell_type": "code",
   "execution_count": null,
   "metadata": {},
   "outputs": [],
   "source": [
    "# Dr. Colmeneres'\n",
    "#There is another possible alternative.\n",
    "#This alternative uses the .format() method. \n",
    "#this method, when properly combined  with print, provides an \n",
    "#excellent mechanism to format objects#FORMAT: \n",
    "#'Initially some text here {var1} then some more text {var2}'.format\n",
    "#(var1='some stuff1', var2='some stuff2')\n",
    "print('{var1} followed by a string that reads {var2}'.format(var1='x',var2='y'))"
   ]
  },
  {
   "cell_type": "markdown",
   "metadata": {},
   "source": [
    "## Lists"
   ]
  },
  {
   "cell_type": "code",
   "execution_count": null,
   "metadata": {},
   "outputs": [],
   "source": [
    "# Are mutable, made with [], elements seperated by comma, can index,\n",
    "# slicing, circular, nested, and elements do not need to be the same type\n",
    "that = 1234\n",
    "my_list = ['this', that, '&']\n",
    "print(my_list)\n",
    "len(my_list)\n",
    "print (my_list[2])\n"
   ]
  },
  {
   "cell_type": "code",
   "execution_count": null,
   "metadata": {},
   "outputs": [],
   "source": [
    "# Slicing\n",
    "f = range(3, 50)\n",
    "print ('f[7:14]: ')\n",
    "print(f[7:14])\n",
    "print ('f[:]: ')\n",
    "print(f[:])\n",
    "print ('f[1:-1:3]: ')\n",
    "print(f[1:-1:3])\n",
    "print (f[5])"
   ]
  },
  {
   "cell_type": "code",
   "execution_count": null,
   "metadata": {},
   "outputs": [],
   "source": [
    "# Lists can be concatenated with other lists\n",
    "stuff = ['a', 32]\n",
    "stuff = stuff + ['nothing']\n",
    "\n",
    "print(stuff)"
   ]
  },
  {
   "cell_type": "code",
   "execution_count": null,
   "metadata": {},
   "outputs": [],
   "source": [
    "# Lists can be multiplied by integers (-infinity, 0] produce\n",
    "# empty lists\n",
    "print (stuff * -1)"
   ]
  },
  {
   "cell_type": "markdown",
   "metadata": {},
   "source": [
    "#### Methods"
   ]
  },
  {
   "cell_type": "code",
   "execution_count": 2,
   "metadata": {},
   "outputs": [
    {
     "name": "stdout",
     "output_type": "stream",
     "text": [
      "['nothing', 'to', 'see', 'here', 'or', 'anywhere']\n",
      "['nothing', 'to', 'see', 'anywhere']\n",
      "['anywhere', 'nothing', 'see', 'to']\n",
      "['to', 'see', 'nothing', 'anywhere']\n",
      "['to', 'see', 3, 'nothing', 'anywhere']\n"
     ]
    }
   ],
   "source": [
    "l1 = ['nothing', 'to', 'see', 'here']\n",
    "l1.append('or')\n",
    "l1.append('anywhere')\n",
    "print (l1)\n",
    "l1.pop(3)\n",
    "l1.pop(3)\n",
    "print (l1)\n",
    "l1.sort()\n",
    "print (l1)\n",
    "l1.reverse()\n",
    "print (l1)\n",
    "l1.insert(2, 3)\n",
    "print (l1)"
   ]
  },
  {
   "cell_type": "code",
   "execution_count": null,
   "metadata": {},
   "outputs": [],
   "source": [
    "matrix = [ [0,1], [2, 3], [4, 5] ]\n",
    "print (matrix)\n",
    "print (matrix [2][1])"
   ]
  },
  {
   "cell_type": "markdown",
   "metadata": {},
   "source": [
    "## Dictionaries"
   ]
  },
  {
   "cell_type": "code",
   "execution_count": null,
   "metadata": {},
   "outputs": [],
   "source": [
    "dict1 = {'key1': 'value', 'key2': 42}\n",
    "print(dict1)"
   ]
  },
  {
   "cell_type": "code",
   "execution_count": null,
   "metadata": {},
   "outputs": [],
   "source": [
    "dict1 = {'this': {'goes': 'here'}}\n",
    "dict1['this']['goes'] = dict1['this']['goes'] + '!'\n",
    "print(dict1['this']['goes'])\n",
    "dict1['this']['went'] = 'there'\n",
    "print (dict1)"
   ]
  },
  {
   "cell_type": "markdown",
   "metadata": {},
   "source": [
    "### Methods\n"
   ]
  },
  {
   "cell_type": "code",
   "execution_count": null,
   "metadata": {},
   "outputs": [],
   "source": [
    "print ('dict1:')\n",
    "print (dict1.keys())\n",
    "print (dict1.values())\n",
    "print (dict1.items())\n",
    "print ('dict1[\\'this\\']:')\n",
    "print (dict1['this'].keys())\n",
    "print (dict1['this'].values())\n",
    "print (dict1['this'].items())"
   ]
  },
  {
   "cell_type": "markdown",
   "metadata": {},
   "source": [
    "## Tuples"
   ]
  },
  {
   "cell_type": "code",
   "execution_count": null,
   "metadata": {},
   "outputs": [],
   "source": [
    "tuples = ('look', 'like', 'this', 7, 'ever')\n",
    "print (tuples)"
   ]
  },
  {
   "cell_type": "markdown",
   "metadata": {},
   "source": [
    "### Methods"
   ]
  },
  {
   "cell_type": "code",
   "execution_count": null,
   "metadata": {},
   "outputs": [],
   "source": [
    "print (len(tuples))\n",
    "print (tuples.index(7))\n",
    "print (tuples.index('ever'))\n",
    "print (tuples[3])\n",
    "print (tuples.count('rudabega'))\n",
    "print (tuples[0: 4: 2])"
   ]
  },
  {
   "cell_type": "markdown",
   "metadata": {},
   "source": [
    "## Sets"
   ]
  },
  {
   "cell_type": "code",
   "execution_count": 16,
   "metadata": {},
   "outputs": [
    {
     "name": "stdout",
     "output_type": "stream",
     "text": [
      "{0, 2, 4, 6, 8, 10, 12, 14, 16, 18}\n",
      "{1, 2, 3, 4, 5, 6, 7, 8, 45}\n"
     ]
    }
   ],
   "source": [
    "# Contain unique elements\n",
    "mySet = set()\n",
    "myList = [x for x in range(0, 20, 2)]\n",
    "for i in myList:\n",
    "    mySet.add(i)\n",
    "    mySet.add(i)\n",
    "print (mySet)\n",
    "set2 = [1, 2, 3, 4, 5, 6 ,7, 1, 2, 3, 45, 6, 8]\n",
    "set2 = set(set2)\n",
    "print (set2)"
   ]
  },
  {
   "cell_type": "markdown",
   "metadata": {},
   "source": [
    "### Methods"
   ]
  },
  {
   "cell_type": "markdown",
   "metadata": {},
   "source": [
    "## Comprehensions"
   ]
  },
  {
   "cell_type": "code",
   "execution_count": 14,
   "metadata": {},
   "outputs": [
    {
     "name": "stdout",
     "output_type": "stream",
     "text": [
      "['T', 'h', 'i', 's', ' ', 'r', 'e', 'a', 'l', 'l', 'y', ' ', 'n', 'o', 'r', 'm', 'a', 'l', ' ', 's', 't', 'r', 'i', 'n', 'g', ' ', 't', 'h', 'a', 't', ' ', 'I', ' ', 'j', 'u', 's', 't', ' ', 't', 'h', 'o', 'u', 'g', 'h', 't', ' ', 'o', 'f']\n",
      "-----------------------------------------------------------\n",
      "[0, 4, 16, 36, 64]\n"
     ]
    }
   ],
   "source": [
    "# Are a quick way to generate a list of values\n",
    "stringList = [l for l in \"This really normal string that I just thought of\"]\n",
    "print(stringList)\n",
    "print (\"-----------------------------------------------------------\")\n",
    "numbers = [x**2 for x in [a for a in range(0, 10) if a % 2 == 0]]\n",
    "print (numbers)"
   ]
  },
  {
   "cell_type": "markdown",
   "metadata": {},
   "source": [
    "## Booleans\n",
    " Are a thing"
   ]
  },
  {
   "cell_type": "markdown",
   "metadata": {},
   "source": [
    "## Comparison Operators"
   ]
  },
  {
   "cell_type": "code",
   "execution_count": 19,
   "metadata": {},
   "outputs": [
    {
     "name": "stdout",
     "output_type": "stream",
     "text": [
      "True\n",
      "False\n",
      "Chained operator: \n",
      "(1 < 3 > 2) === (1 < 3 and 3 > 2)\n",
      "True\n",
      "True\n"
     ]
    }
   ],
   "source": [
    "# are very similar to operaators in C++\n",
    "print (1 == 1)\n",
    "print (7 <= -1)\n",
    "# Can also chain operators\n",
    "print (\"Chained operator: \")\n",
    "print (\"(1 < 3 > 2) === (1 < 3 and 3 > 2)\")\n",
    "print (1 < 3 > 2)\n",
    "print (1 < 3 and 3 > 2)"
   ]
  },
  {
   "cell_type": "markdown",
   "metadata": {},
   "source": [
    "## Control flow"
   ]
  },
  {
   "cell_type": "code",
   "execution_count": 22,
   "metadata": {},
   "outputs": [
    {
     "name": "stdout",
     "output_type": "stream",
     "text": [
      "something\n",
      "this\n",
      "this\n",
      "is\n",
      "this\n",
      "is\n",
      "happening\n"
     ]
    }
   ],
   "source": [
    "if (True) :\n",
    "    print (\"something\")\n",
    "elif (False):\n",
    "    print (\"not happening\")\n",
    "else:\n",
    "    print (\"likely\")\n",
    "    \n",
    "for x in range(0, 3):\n",
    "    print (\"this\")\n",
    "    if (x >= 1):\n",
    "        print (\"is\")\n",
    "    if (x >= 2):\n",
    "        print (\"happening\")"
   ]
  },
  {
   "cell_type": "markdown",
   "metadata": {},
   "source": [
    "## Broadcasting"
   ]
  },
  {
   "cell_type": "code",
   "execution_count": 4,
   "metadata": {},
   "outputs": [
    {
     "name": "stdout",
     "output_type": "stream",
     "text": [
      "this is what a looks like:  [1, 4, 7, 10, 13, 16, 19, 22, 25, 28, 31, 34, 37, 40, 43, 46, 49, 52, 55, 58, 61, 64, 67, 70, 73, 76, 79, 82, 85, 88, 91, 94, 97, 100, 103, 106, 109]\n"
     ]
    },
    {
     "ename": "TypeError",
     "evalue": "can only concatenate list (not \"int\") to list",
     "output_type": "error",
     "traceback": [
      "\u001b[0;31m---------------------------------------------------------------------------\u001b[0m",
      "\u001b[0;31mTypeError\u001b[0m                                 Traceback (most recent call last)",
      "\u001b[0;32m<ipython-input-4-6312761a1dcd>\u001b[0m in \u001b[0;36m<module>\u001b[0;34m()\u001b[0m\n\u001b[1;32m      2\u001b[0m \u001b[0ma\u001b[0m \u001b[0;34m=\u001b[0m \u001b[0;34m[\u001b[0m\u001b[0mx\u001b[0m \u001b[0;32mfor\u001b[0m \u001b[0mx\u001b[0m \u001b[0;32min\u001b[0m \u001b[0mrange\u001b[0m\u001b[0;34m(\u001b[0m\u001b[0;36m1\u001b[0m\u001b[0;34m,\u001b[0m \u001b[0;36m110\u001b[0m\u001b[0;34m,\u001b[0m \u001b[0;36m3\u001b[0m\u001b[0;34m)\u001b[0m\u001b[0;34m]\u001b[0m\u001b[0;34m\u001b[0m\u001b[0m\n\u001b[1;32m      3\u001b[0m \u001b[0mprint\u001b[0m \u001b[0;34m(\u001b[0m\u001b[0;34m\"this is what a looks like: \"\u001b[0m\u001b[0;34m,\u001b[0m \u001b[0mstr\u001b[0m\u001b[0;34m(\u001b[0m\u001b[0ma\u001b[0m\u001b[0;34m)\u001b[0m\u001b[0;34m)\u001b[0m\u001b[0;34m\u001b[0m\u001b[0m\n\u001b[0;32m----> 4\u001b[0;31m \u001b[0mprint\u001b[0m \u001b[0;34m(\u001b[0m\u001b[0;34m\"this is what a looks like modified: \"\u001b[0m\u001b[0;34m,\u001b[0m \u001b[0mstr\u001b[0m\u001b[0;34m(\u001b[0m\u001b[0ma\u001b[0m \u001b[0;34m+\u001b[0m \u001b[0;36m3\u001b[0m\u001b[0;34m)\u001b[0m\u001b[0;34m)\u001b[0m\u001b[0;34m\u001b[0m\u001b[0m\n\u001b[0m",
      "\u001b[0;31mTypeError\u001b[0m: can only concatenate list (not \"int\") to list"
     ]
    }
   ],
   "source": [
    "## May only work with numpy arrays\n",
    "a = [x for x in range(1, 110, 3)]\n",
    "print (\"this is what a looks like: \", str(a))\n",
    "print (\"this is what a looks like modified: \", str(a + 3))"
   ]
  },
  {
   "cell_type": "code",
   "execution_count": null,
   "metadata": {},
   "outputs": [],
   "source": []
  }
 ],
 "metadata": {
  "kernelspec": {
   "display_name": "Python 3",
   "language": "python",
   "name": "python3"
  },
  "language_info": {
   "codemirror_mode": {
    "name": "ipython",
    "version": 3
   },
   "file_extension": ".py",
   "mimetype": "text/x-python",
   "name": "python",
   "nbconvert_exporter": "python",
   "pygments_lexer": "ipython3",
   "version": "3.7.0"
  }
 },
 "nbformat": 4,
 "nbformat_minor": 2
}
