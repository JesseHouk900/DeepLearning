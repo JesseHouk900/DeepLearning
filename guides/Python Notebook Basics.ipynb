{
 "cells": [
  {
   "cell_type": "markdown",
   "metadata": {},
   "source": [
    "# Python/Notebook Basics\n",
    "\n",
    "## Strings"
   ]
  },
  {
   "cell_type": "code",
   "execution_count": null,
   "metadata": {},
   "outputs": [],
   "source": [
    "# Is the character for a comment in python\n",
    "# Notebook will repeat the last literal given, but executes every line\n",
    "'I will be read'\n",
    "\"I will be read and printed out\""
   ]
  },
  {
   "cell_type": "code",
   "execution_count": null,
   "metadata": {},
   "outputs": [],
   "source": [
    "# Notebooks also does this with variables\n",
    "a = 'b'\n",
    "b = 'be'\n",
    "a\n",
    "b"
   ]
  },
  {
   "cell_type": "code",
   "execution_count": null,
   "metadata": {},
   "outputs": [],
   "source": [
    "# Python uses print() to output a string, python 3 requires print\n",
    "#    syntax to resemble a function call while in python 2, print 'this'\n",
    "#    would be valid\n",
    "print (\"What I said\")\n",
    "print ('What you said')"
   ]
  },
  {
   "cell_type": "code",
   "execution_count": null,
   "metadata": {},
   "outputs": [],
   "source": [
    "# Python has a built in function to find the length of an object,\n",
    "#    ie. strings\n",
    "print (len('1 is to 2 as 2 is to 3: irrelevant'))\n",
    "len ('What-what, what-what')\n"
   ]
  },
  {
   "cell_type": "code",
   "execution_count": null,
   "metadata": {},
   "outputs": [],
   "source": [
    "# To index a string, do it like an array in C++\n",
    "s = 'I woke up around 2 in the morning'\n",
    "print (s[0] + ' did what?')\n",
    "print (s[-16])\n",
    "f = 'fresh, dressed like a million dollars'\n",
    "print ('f[7:14]: ' + f[7:14])\n",
    "print ('f[:]: ' + f[:])\n",
    "print ('f[1:-1:3]: ' + f[1:-1:3])"
   ]
  },
  {
   "cell_type": "code",
   "execution_count": null,
   "metadata": {},
   "outputs": [],
   "source": [
    "# Python also allows some math done onto strings\n",
    "g = 'goob'\n",
    "print ('g + g = ' + g + g)\n",
    "print ('2 * g = ' + (2 * g))"
   ]
  },
  {
   "cell_type": "code",
   "execution_count": null,
   "metadata": {},
   "outputs": [],
   "source": [
    "# Dr. Colmeneres'\n",
    "# numbers:   %n1.n2f\n",
    "# n1: is the total minimum number of digits the string should contain\n",
    "# n2: This field stand for how many numbers to show past the decimal point\n",
    "fpn1=14.562# assigning this floating point number to a variable\n",
    "print('A_The floating point number is: %1.2f'%(14.562))\n",
    "print('------------------------------------------------------')\n",
    "print('B_The floating point number is: %1.0f'%(14.562))\n",
    "print('------------------------------------------------------')\n",
    "print('C_The floating point number is: %1.5f'%(14.562))\n",
    "print('------------------------------------------------------')\n",
    "print('D_The floating point number is: %10.1f'%(14.562))\n",
    "print('------------------------------------------------------')\n",
    "print('E_The floating point number is: %21.5f'%(14.562))"
   ]
  },
  {
   "cell_type": "code",
   "execution_count": null,
   "metadata": {},
   "outputs": [],
   "source": [
    "# Dr. Colmeneres'\n",
    "#Readme: now we are going to learn how to print more sophisticated statements\n",
    "# A.K.A: MULTIPLE FORMATTING\n",
    "fpn2=36.254\n",
    "word='Hello World'\n",
    "print('%s the magic number is: %1.3f'%(word,fpn2))"
   ]
  },
  {
   "cell_type": "code",
   "execution_count": null,
   "metadata": {},
   "outputs": [],
   "source": [
    "# Dr. Colmeneres'\n",
    "#There is another possible alternative.\n",
    "#This alternative uses the .format() method. \n",
    "#this method, when properly combined  with print, provides an \n",
    "#excellent mechanism to format objects#FORMAT: \n",
    "#'Initially some text here {var1} then some more text {var2}'.format\n",
    "#(var1='some stuff1', var2='some stuff2')\n",
    "print('{var1} followed by a string that reads {var2}'.format(var1='x',var2='y'))"
   ]
  },
  {
   "cell_type": "markdown",
   "metadata": {},
   "source": [
    "## Lists"
   ]
  },
  {
   "cell_type": "code",
   "execution_count": null,
   "metadata": {},
   "outputs": [],
   "source": [
    "# Are mutable, made with [], elements seperated by comma, can index,\n",
    "# slicing, circular, nested, and elements do not need to be the same type\n",
    "that = 1234\n",
    "my_list = ['this', that, '&']\n",
    "print(my_list)\n",
    "len(my_list)\n",
    "print (my_list[2])\n"
   ]
  },
  {
   "cell_type": "code",
   "execution_count": null,
   "metadata": {},
   "outputs": [],
   "source": [
    "# Slicing\n",
    "f = range(3, 50)\n",
    "print ('f[7:14]: ')\n",
    "print(f[7:14])\n",
    "print ('f[:]: ')\n",
    "print(f[:])\n",
    "print ('f[1:-1:3]: ')\n",
    "print(f[1:-1:3])\n",
    "print (f[5])"
   ]
  },
  {
   "cell_type": "code",
   "execution_count": null,
   "metadata": {},
   "outputs": [],
   "source": [
    "# Lists can be concatenated with other lists\n",
    "stuff = ['a', 32]\n",
    "stuff = stuff + ['nothing']\n",
    "\n",
    "print(stuff)"
   ]
  },
  {
   "cell_type": "code",
   "execution_count": null,
   "metadata": {},
   "outputs": [],
   "source": [
    "# Lists can be multiplied by integers (-infinity, 0] produce\n",
    "# empty lists\n",
    "print (stuff * -1)"
   ]
  },
  {
   "cell_type": "markdown",
   "metadata": {},
   "source": [
    "#### Methods"
   ]
  },
  {
   "cell_type": "code",
   "execution_count": null,
   "metadata": {},
   "outputs": [],
   "source": [
    "l1 = ['nothing', 'to', 'see', 'here']\n",
    "l1.append('or')\n",
    "l1.append('anywhere')\n",
    "print (l1)\n",
    "l1.pop(3)\n",
    "l1.pop(3)\n",
    "print (l1)\n",
    "l1.sort()\n",
    "print (l1)\n",
    "l1.reverse()\n",
    "print (l1)\n",
    "l1.insert(2, 3)\n",
    "print (l1)"
   ]
  },
  {
   "cell_type": "code",
   "execution_count": null,
   "metadata": {},
   "outputs": [],
   "source": [
    "matrix = [ [0,1], [2, 3], [4, 5] ]\n",
    "print (matrix)\n",
    "print (matrix [2][1])"
   ]
  },
  {
   "cell_type": "markdown",
   "metadata": {},
   "source": [
    "## Dictionaries"
   ]
  },
  {
   "cell_type": "code",
   "execution_count": null,
   "metadata": {},
   "outputs": [],
   "source": [
    "dict1 = {'key1': 'value', 'key2': 42}\n",
    "print(dict1)"
   ]
  },
  {
   "cell_type": "code",
   "execution_count": null,
   "metadata": {},
   "outputs": [],
   "source": [
    "dict1 = {'this': {'goes': 'here'}}\n",
    "dict1['this']['goes'] = dict1['this']['goes'] + '!'\n",
    "print(dict1['this']['goes'])\n",
    "dict1['this']['went'] = 'there'\n",
    "print (dict1)"
   ]
  },
  {
   "cell_type": "markdown",
   "metadata": {},
   "source": [
    "### Methods\n"
   ]
  },
  {
   "cell_type": "code",
   "execution_count": null,
   "metadata": {},
   "outputs": [],
   "source": [
    "print ('dict1:')\n",
    "print (dict1.keys())\n",
    "print (dict1.values())\n",
    "print (dict1.items())\n",
    "print ('dict1[\\'this\\']:')\n",
    "print (dict1['this'].keys())\n",
    "print (dict1['this'].values())\n",
    "print (dict1['this'].items())"
   ]
  },
  {
   "cell_type": "markdown",
   "metadata": {},
   "source": [
    "## Tuples"
   ]
  },
  {
   "cell_type": "code",
   "execution_count": null,
   "metadata": {},
   "outputs": [],
   "source": [
    "tuples = ('look', 'like', 'this', 7, 'ever')\n",
    "print (tuples)"
   ]
  },
  {
   "cell_type": "markdown",
   "metadata": {},
   "source": [
    "### Methods"
   ]
  },
  {
   "cell_type": "code",
   "execution_count": null,
   "metadata": {},
   "outputs": [],
   "source": [
    "print (len(tuples))\n",
    "print (tuples.index(7))\n",
    "print (tuples.index('ever'))\n",
    "print (tuples[3])\n",
    "print (tuples.count('rudabega'))\n",
    "print (tuples[0: 4: 2])"
   ]
  },
  {
   "cell_type": "markdown",
   "metadata": {},
   "source": [
    "## Sets"
   ]
  },
  {
   "cell_type": "code",
   "execution_count": null,
   "metadata": {},
   "outputs": [],
   "source": [
    "# Contain unique elements\n",
    "mySet = set()\n",
    "myList = [x for x in range(0, 20, 2)]\n",
    "for i in myList:\n",
    "    mySet.add(i)\n",
    "    mySet.add(i)\n",
    "print (mySet)\n",
    "set2 = [1, 2, 3, 4, 5, 6 ,7, 1, 2, 3, 45, 6, 8]\n",
    "set2 = set(set2)\n",
    "print (set2)"
   ]
  },
  {
   "cell_type": "markdown",
   "metadata": {},
   "source": [
    "### Methods"
   ]
  },
  {
   "cell_type": "markdown",
   "metadata": {},
   "source": [
    "## Comprehensions"
   ]
  },
  {
   "cell_type": "code",
   "execution_count": null,
   "metadata": {},
   "outputs": [],
   "source": [
    "# Are a quick way to generate a list of values\n",
    "stringList = [l for l in \"This really normal string that I just thought of\"]\n",
    "print(stringList)\n",
    "print (\"-----------------------------------------------------------\")\n",
    "numbers = [x**2 for x in [a for a in range(0, 10) if a % 2 == 0]]\n",
    "print (numbers)"
   ]
  },
  {
   "cell_type": "markdown",
   "metadata": {},
   "source": [
    "## Booleans\n",
    " Are a thing"
   ]
  },
  {
   "cell_type": "markdown",
   "metadata": {},
   "source": [
    "## Comparison Operators"
   ]
  },
  {
   "cell_type": "code",
   "execution_count": null,
   "metadata": {},
   "outputs": [],
   "source": [
    "# are very similar to operaators in C++\n",
    "print (1 == 1)\n",
    "print (7 <= -1)\n",
    "# Can also chain operators\n",
    "print (\"Chained operator: \")\n",
    "print (\"(1 < 3 > 2) === (1 < 3 and 3 > 2)\")\n",
    "print (1 < 3 > 2)\n",
    "print (1 < 3 and 3 > 2)"
   ]
  },
  {
   "cell_type": "markdown",
   "metadata": {},
   "source": [
    "## Control flow"
   ]
  },
  {
   "cell_type": "code",
   "execution_count": null,
   "metadata": {},
   "outputs": [],
   "source": [
    "if (True) :\n",
    "    print (\"something\")\n",
    "elif (False):\n",
    "    print (\"not happening\")\n",
    "else:\n",
    "    print (\"likely\")\n",
    "    \n",
    "for x in range(0, 3):\n",
    "    print (\"this\")\n",
    "    if (x >= 1):\n",
    "        print (\"is\")\n",
    "    if (x >= 2):\n",
    "        print (\"happening\")"
   ]
  },
  {
   "cell_type": "markdown",
   "metadata": {},
   "source": [
    "## Broadcasting"
   ]
  },
  {
   "cell_type": "code",
   "execution_count": null,
   "metadata": {},
   "outputs": [],
   "source": [
    "## May only work with numpy arrays\n",
    "a = [x for x in range(1, 110, 3)]\n",
    "print (\"this is what a looks like: \", str(a))\n",
    "print (\"this is what a looks like modified: \", str(a + 3))"
   ]
  },
  {
   "cell_type": "code",
   "execution_count": null,
   "metadata": {},
   "outputs": [],
   "source": []
  }
 ],
 "metadata": {
  "kernelspec": {
   "display_name": "Python 3",
   "language": "python",
   "name": "python3"
  },
  "language_info": {
   "codemirror_mode": {
    "name": "ipython",
    "version": 3
   },
   "file_extension": ".py",
   "mimetype": "text/x-python",
   "name": "python",
   "nbconvert_exporter": "python",
   "pygments_lexer": "ipython3",
   "version": "3.7.0"
  }
 },
 "nbformat": 4,
 "nbformat_minor": 2
}
