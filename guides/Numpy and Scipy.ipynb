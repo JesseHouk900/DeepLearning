{
 "cells": [
  {
   "cell_type": "markdown",
   "metadata": {},
   "source": [
    "# Numpy"
   ]
  },
  {
   "cell_type": "code",
   "execution_count": null,
   "metadata": {},
   "outputs": [],
   "source": [
    "# add ability to include numpy\n",
    "import sys\n",
    "# include the numpy package\n",
    "import numpy as notNumpy"
   ]
  },
  {
   "cell_type": "markdown",
   "metadata": {},
   "source": [
    "## Arrays/Matricies"
   ]
  },
  {
   "cell_type": "code",
   "execution_count": null,
   "metadata": {},
   "outputs": [],
   "source": [
    "a1 = notNumpy.array([55, 12, 32, 43])\n",
    "# get list of # of elements in each dimension from\n",
    "print (a1.shape)\n",
    "# the number of elements in a particular dimension\n",
    "print (a1.shape[0])\n",
    "print (len(a1)) # works\n",
    "# to reform the matrix, use\n",
    "a2 = notNumpy.reshape(a1, (2, 2))\n",
    "print (a2)\n",
    "# to get the # of dimensions (a.k.a. Rank)\n",
    "print (a2.ndim)"
   ]
  },
  {
   "cell_type": "markdown",
   "metadata": {},
   "source": [
    "## Special Arrays/Matricies"
   ]
  },
  {
   "cell_type": "code",
   "execution_count": null,
   "metadata": {},
   "outputs": [],
   "source": [
    "a3 = notNumpy.zeros(12) # where 12 is the number of zeros/elements\n",
    "print (a3)                  # that will be made into an array\n",
    "m1 = notNumpy.zeros((4, 4)) # will make a 4x4 matrix of all 0's, notice\n",
    "print (m1)                      # a tuple is \n",
    "## Also works for notNumpy.ones()\n",
    "print (\"-------------------------------------------------------\")\n",
    "a4 = notNumpy.arange(0, 100, 10) # for arange(first value, last value, change)\n",
    "print (a4)\n",
    "a5 = notNumpy.arange(-2, 2, 0.25)\n",
    "print (a5)\n",
    "print (\"-------------------------------------------------------\")\n",
    "# Random Floats [0, 1) = np.random.rand(rows, columns)\n",
    "a6 = notNumpy.random.rand(2, 3)\n",
    "print (a6)\n",
    "a7 = notNumpy.random.randint(2, 10, size = (2, 3))\n",
    "print (a7)"
   ]
  },
  {
   "cell_type": "markdown",
   "metadata": {},
   "source": [
    "### Math"
   ]
  },
  {
   "cell_type": "code",
   "execution_count": null,
   "metadata": {},
   "outputs": [],
   "source": [
    "m1 = notNumpy.array([[1, 2], [3, 4]])\n",
    "m2 = m1\n",
    "print (m1 + m2)\n",
    "# element wise multiplication\n",
    "print (m1 * m2)\n",
    "# Algebraic matrix multiplication\n",
    "print (notNumpy.dot(m1, m2))"
   ]
  },
  {
   "cell_type": "code",
   "execution_count": null,
   "metadata": {},
   "outputs": [],
   "source": [
    "# simple homework for Dr. Colmenares\n",
    "def npArray (l, h):\n",
    "    return notNumpy.reshape(notNumpy.arange(l, h+1, 1), (2, 2))\n",
    "A = notNumpy.array([npArray(1, 4), npArray(5, 8), npArray(9, 12)])\n",
    "print (A)"
   ]
  },
  {
   "cell_type": "code",
   "execution_count": null,
   "metadata": {},
   "outputs": [],
   "source": []
  }
 ],
 "metadata": {
  "kernelspec": {
   "display_name": "Python 3",
   "language": "python",
   "name": "python3"
  },
  "language_info": {
   "codemirror_mode": {
    "name": "ipython",
    "version": 3
   },
   "file_extension": ".py",
   "mimetype": "text/x-python",
   "name": "python",
   "nbconvert_exporter": "python",
   "pygments_lexer": "ipython3",
   "version": "3.6.5"
  }
 },
 "nbformat": 4,
 "nbformat_minor": 2
}
